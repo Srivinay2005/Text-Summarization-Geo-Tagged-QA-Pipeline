{
  "nbformat": 4,
  "nbformat_minor": 0,
  "metadata": {
    "colab": {
      "provenance": [],
      "gpuType": "T4",
      "authorship_tag": "ABX9TyNaetZrNxSJ4IMVlhTPvgEg",
      "include_colab_link": true
    },
    "kernelspec": {
      "name": "python3",
      "display_name": "Python 3"
    },
    "language_info": {
      "name": "python"
    },
    "accelerator": "GPU"
  },
  "cells": [
    {
      "cell_type": "markdown",
      "metadata": {
        "id": "view-in-github",
        "colab_type": "text"
      },
      "source": [
        "<a href=\"https://colab.research.google.com/github/Srivinay2005/Text-Summarization-Geo-Tagged-QA-Pipeline/blob/main/pipeline.ipynb\" target=\"_parent\"><img src=\"https://colab.research.google.com/assets/colab-badge.svg\" alt=\"Open In Colab\"/></a>"
      ]
    },
    {
      "cell_type": "code",
      "execution_count": null,
      "metadata": {
        "id": "lAwmd5joKamE"
      },
      "outputs": [],
      "source": [
        "# STEP 1: Install dependencies\n",
        "!pip install transformers torch spacy geopy pandas tqdm rouge-score\n",
        "!python -m spacy download en_core_web_sm"
      ]
    },
    {
      "cell_type": "code",
      "source": [
        "from google.colab import drive\n",
        "drive.mount('/content/drive')"
      ],
      "metadata": {
        "colab": {
          "base_uri": "https://localhost:8080/"
        },
        "id": "v8ud5uwfKikd",
        "outputId": "ce25ddb0-e7ea-4733-babe-96832c4c6031"
      },
      "execution_count": 34,
      "outputs": [
        {
          "output_type": "stream",
          "name": "stdout",
          "text": [
            "Drive already mounted at /content/drive; to attempt to forcibly remount, call drive.mount(\"/content/drive\", force_remount=True).\n"
          ]
        }
      ]
    },
    {
      "cell_type": "code",
      "source": [
        "# STEP 2: Import libraries\n",
        "import pandas as pd\n",
        "from transformers import pipeline\n",
        "import spacy\n",
        "from geopy.geocoders import Nominatim\n",
        "from geopy.extra.rate_limiter import RateLimiter\n",
        "from tqdm import tqdm\n",
        "import json"
      ],
      "metadata": {
        "id": "iE36SIoJKjHv"
      },
      "execution_count": 1,
      "outputs": []
    },
    {
      "cell_type": "code",
      "source": [
        "# STEP 3: Load dataset (upload train.csv from Kaggle)\n",
        "from google.colab import files\n",
        "df = pd.read_csv(\"/content/drive/MyDrive/train.csv\")\n",
        "df = df.head(5000).reset_index(drop=True)\n",
        "df.head(2)"
      ],
      "metadata": {
        "colab": {
          "base_uri": "https://localhost:8080/",
          "height": 112
        },
        "id": "-U9Y2jRHKjR9",
        "outputId": "5bf3f5f8-2c37-47a6-e783-ef48d216ff23"
      },
      "execution_count": 2,
      "outputs": [
        {
          "output_type": "execute_result",
          "data": {
            "text/plain": [
              "                                         id  \\\n",
              "0  0001d1afc246a7964130f43ae940af6bc6c57f01   \n",
              "1  0002095e55fcbd3a2f366d9bf92a95433dc305ef   \n",
              "\n",
              "                                             article  \\\n",
              "0  By . Associated Press . PUBLISHED: . 14:11 EST...   \n",
              "1  (CNN) -- Ralph Mata was an internal affairs li...   \n",
              "\n",
              "                                          highlights  \n",
              "0  Bishop John Folda, of North Dakota, is taking ...  \n",
              "1  Criminal complaint: Cop used his role to help ...  "
            ],
            "text/html": [
              "\n",
              "  <div id=\"df-c02ab2f7-6de9-4a58-bc12-d6f7d9ae19eb\" class=\"colab-df-container\">\n",
              "    <div>\n",
              "<style scoped>\n",
              "    .dataframe tbody tr th:only-of-type {\n",
              "        vertical-align: middle;\n",
              "    }\n",
              "\n",
              "    .dataframe tbody tr th {\n",
              "        vertical-align: top;\n",
              "    }\n",
              "\n",
              "    .dataframe thead th {\n",
              "        text-align: right;\n",
              "    }\n",
              "</style>\n",
              "<table border=\"1\" class=\"dataframe\">\n",
              "  <thead>\n",
              "    <tr style=\"text-align: right;\">\n",
              "      <th></th>\n",
              "      <th>id</th>\n",
              "      <th>article</th>\n",
              "      <th>highlights</th>\n",
              "    </tr>\n",
              "  </thead>\n",
              "  <tbody>\n",
              "    <tr>\n",
              "      <th>0</th>\n",
              "      <td>0001d1afc246a7964130f43ae940af6bc6c57f01</td>\n",
              "      <td>By . Associated Press . PUBLISHED: . 14:11 EST...</td>\n",
              "      <td>Bishop John Folda, of North Dakota, is taking ...</td>\n",
              "    </tr>\n",
              "    <tr>\n",
              "      <th>1</th>\n",
              "      <td>0002095e55fcbd3a2f366d9bf92a95433dc305ef</td>\n",
              "      <td>(CNN) -- Ralph Mata was an internal affairs li...</td>\n",
              "      <td>Criminal complaint: Cop used his role to help ...</td>\n",
              "    </tr>\n",
              "  </tbody>\n",
              "</table>\n",
              "</div>\n",
              "    <div class=\"colab-df-buttons\">\n",
              "\n",
              "  <div class=\"colab-df-container\">\n",
              "    <button class=\"colab-df-convert\" onclick=\"convertToInteractive('df-c02ab2f7-6de9-4a58-bc12-d6f7d9ae19eb')\"\n",
              "            title=\"Convert this dataframe to an interactive table.\"\n",
              "            style=\"display:none;\">\n",
              "\n",
              "  <svg xmlns=\"http://www.w3.org/2000/svg\" height=\"24px\" viewBox=\"0 -960 960 960\">\n",
              "    <path d=\"M120-120v-720h720v720H120Zm60-500h600v-160H180v160Zm220 220h160v-160H400v160Zm0 220h160v-160H400v160ZM180-400h160v-160H180v160Zm440 0h160v-160H620v160ZM180-180h160v-160H180v160Zm440 0h160v-160H620v160Z\"/>\n",
              "  </svg>\n",
              "    </button>\n",
              "\n",
              "  <style>\n",
              "    .colab-df-container {\n",
              "      display:flex;\n",
              "      gap: 12px;\n",
              "    }\n",
              "\n",
              "    .colab-df-convert {\n",
              "      background-color: #E8F0FE;\n",
              "      border: none;\n",
              "      border-radius: 50%;\n",
              "      cursor: pointer;\n",
              "      display: none;\n",
              "      fill: #1967D2;\n",
              "      height: 32px;\n",
              "      padding: 0 0 0 0;\n",
              "      width: 32px;\n",
              "    }\n",
              "\n",
              "    .colab-df-convert:hover {\n",
              "      background-color: #E2EBFA;\n",
              "      box-shadow: 0px 1px 2px rgba(60, 64, 67, 0.3), 0px 1px 3px 1px rgba(60, 64, 67, 0.15);\n",
              "      fill: #174EA6;\n",
              "    }\n",
              "\n",
              "    .colab-df-buttons div {\n",
              "      margin-bottom: 4px;\n",
              "    }\n",
              "\n",
              "    [theme=dark] .colab-df-convert {\n",
              "      background-color: #3B4455;\n",
              "      fill: #D2E3FC;\n",
              "    }\n",
              "\n",
              "    [theme=dark] .colab-df-convert:hover {\n",
              "      background-color: #434B5C;\n",
              "      box-shadow: 0px 1px 3px 1px rgba(0, 0, 0, 0.15);\n",
              "      filter: drop-shadow(0px 1px 2px rgba(0, 0, 0, 0.3));\n",
              "      fill: #FFFFFF;\n",
              "    }\n",
              "  </style>\n",
              "\n",
              "    <script>\n",
              "      const buttonEl =\n",
              "        document.querySelector('#df-c02ab2f7-6de9-4a58-bc12-d6f7d9ae19eb button.colab-df-convert');\n",
              "      buttonEl.style.display =\n",
              "        google.colab.kernel.accessAllowed ? 'block' : 'none';\n",
              "\n",
              "      async function convertToInteractive(key) {\n",
              "        const element = document.querySelector('#df-c02ab2f7-6de9-4a58-bc12-d6f7d9ae19eb');\n",
              "        const dataTable =\n",
              "          await google.colab.kernel.invokeFunction('convertToInteractive',\n",
              "                                                    [key], {});\n",
              "        if (!dataTable) return;\n",
              "\n",
              "        const docLinkHtml = 'Like what you see? Visit the ' +\n",
              "          '<a target=\"_blank\" href=https://colab.research.google.com/notebooks/data_table.ipynb>data table notebook</a>'\n",
              "          + ' to learn more about interactive tables.';\n",
              "        element.innerHTML = '';\n",
              "        dataTable['output_type'] = 'display_data';\n",
              "        await google.colab.output.renderOutput(dataTable, element);\n",
              "        const docLink = document.createElement('div');\n",
              "        docLink.innerHTML = docLinkHtml;\n",
              "        element.appendChild(docLink);\n",
              "      }\n",
              "    </script>\n",
              "  </div>\n",
              "\n",
              "\n",
              "    <div id=\"df-e0ec2810-873b-44eb-9af6-8c599b878cd5\">\n",
              "      <button class=\"colab-df-quickchart\" onclick=\"quickchart('df-e0ec2810-873b-44eb-9af6-8c599b878cd5')\"\n",
              "                title=\"Suggest charts\"\n",
              "                style=\"display:none;\">\n",
              "\n",
              "<svg xmlns=\"http://www.w3.org/2000/svg\" height=\"24px\"viewBox=\"0 0 24 24\"\n",
              "     width=\"24px\">\n",
              "    <g>\n",
              "        <path d=\"M19 3H5c-1.1 0-2 .9-2 2v14c0 1.1.9 2 2 2h14c1.1 0 2-.9 2-2V5c0-1.1-.9-2-2-2zM9 17H7v-7h2v7zm4 0h-2V7h2v10zm4 0h-2v-4h2v4z\"/>\n",
              "    </g>\n",
              "</svg>\n",
              "      </button>\n",
              "\n",
              "<style>\n",
              "  .colab-df-quickchart {\n",
              "      --bg-color: #E8F0FE;\n",
              "      --fill-color: #1967D2;\n",
              "      --hover-bg-color: #E2EBFA;\n",
              "      --hover-fill-color: #174EA6;\n",
              "      --disabled-fill-color: #AAA;\n",
              "      --disabled-bg-color: #DDD;\n",
              "  }\n",
              "\n",
              "  [theme=dark] .colab-df-quickchart {\n",
              "      --bg-color: #3B4455;\n",
              "      --fill-color: #D2E3FC;\n",
              "      --hover-bg-color: #434B5C;\n",
              "      --hover-fill-color: #FFFFFF;\n",
              "      --disabled-bg-color: #3B4455;\n",
              "      --disabled-fill-color: #666;\n",
              "  }\n",
              "\n",
              "  .colab-df-quickchart {\n",
              "    background-color: var(--bg-color);\n",
              "    border: none;\n",
              "    border-radius: 50%;\n",
              "    cursor: pointer;\n",
              "    display: none;\n",
              "    fill: var(--fill-color);\n",
              "    height: 32px;\n",
              "    padding: 0;\n",
              "    width: 32px;\n",
              "  }\n",
              "\n",
              "  .colab-df-quickchart:hover {\n",
              "    background-color: var(--hover-bg-color);\n",
              "    box-shadow: 0 1px 2px rgba(60, 64, 67, 0.3), 0 1px 3px 1px rgba(60, 64, 67, 0.15);\n",
              "    fill: var(--button-hover-fill-color);\n",
              "  }\n",
              "\n",
              "  .colab-df-quickchart-complete:disabled,\n",
              "  .colab-df-quickchart-complete:disabled:hover {\n",
              "    background-color: var(--disabled-bg-color);\n",
              "    fill: var(--disabled-fill-color);\n",
              "    box-shadow: none;\n",
              "  }\n",
              "\n",
              "  .colab-df-spinner {\n",
              "    border: 2px solid var(--fill-color);\n",
              "    border-color: transparent;\n",
              "    border-bottom-color: var(--fill-color);\n",
              "    animation:\n",
              "      spin 1s steps(1) infinite;\n",
              "  }\n",
              "\n",
              "  @keyframes spin {\n",
              "    0% {\n",
              "      border-color: transparent;\n",
              "      border-bottom-color: var(--fill-color);\n",
              "      border-left-color: var(--fill-color);\n",
              "    }\n",
              "    20% {\n",
              "      border-color: transparent;\n",
              "      border-left-color: var(--fill-color);\n",
              "      border-top-color: var(--fill-color);\n",
              "    }\n",
              "    30% {\n",
              "      border-color: transparent;\n",
              "      border-left-color: var(--fill-color);\n",
              "      border-top-color: var(--fill-color);\n",
              "      border-right-color: var(--fill-color);\n",
              "    }\n",
              "    40% {\n",
              "      border-color: transparent;\n",
              "      border-right-color: var(--fill-color);\n",
              "      border-top-color: var(--fill-color);\n",
              "    }\n",
              "    60% {\n",
              "      border-color: transparent;\n",
              "      border-right-color: var(--fill-color);\n",
              "    }\n",
              "    80% {\n",
              "      border-color: transparent;\n",
              "      border-right-color: var(--fill-color);\n",
              "      border-bottom-color: var(--fill-color);\n",
              "    }\n",
              "    90% {\n",
              "      border-color: transparent;\n",
              "      border-bottom-color: var(--fill-color);\n",
              "    }\n",
              "  }\n",
              "</style>\n",
              "\n",
              "      <script>\n",
              "        async function quickchart(key) {\n",
              "          const quickchartButtonEl =\n",
              "            document.querySelector('#' + key + ' button');\n",
              "          quickchartButtonEl.disabled = true;  // To prevent multiple clicks.\n",
              "          quickchartButtonEl.classList.add('colab-df-spinner');\n",
              "          try {\n",
              "            const charts = await google.colab.kernel.invokeFunction(\n",
              "                'suggestCharts', [key], {});\n",
              "          } catch (error) {\n",
              "            console.error('Error during call to suggestCharts:', error);\n",
              "          }\n",
              "          quickchartButtonEl.classList.remove('colab-df-spinner');\n",
              "          quickchartButtonEl.classList.add('colab-df-quickchart-complete');\n",
              "        }\n",
              "        (() => {\n",
              "          let quickchartButtonEl =\n",
              "            document.querySelector('#df-e0ec2810-873b-44eb-9af6-8c599b878cd5 button');\n",
              "          quickchartButtonEl.style.display =\n",
              "            google.colab.kernel.accessAllowed ? 'block' : 'none';\n",
              "        })();\n",
              "      </script>\n",
              "    </div>\n",
              "\n",
              "    </div>\n",
              "  </div>\n"
            ],
            "application/vnd.google.colaboratory.intrinsic+json": {
              "type": "dataframe",
              "variable_name": "df",
              "summary": "{\n  \"name\": \"df\",\n  \"rows\": 5000,\n  \"fields\": [\n    {\n      \"column\": \"id\",\n      \"properties\": {\n        \"dtype\": \"string\",\n        \"num_unique_values\": 5000,\n        \"samples\": [\n          \"04573a238e6333b598fab593be635af9969b5ad9\",\n          \"078bdebde7f089b666afd7551f98e9868c84069a\",\n          \"07c529a91f8f837a4e25324481fbef24e382d8c9\"\n        ],\n        \"semantic_type\": \"\",\n        \"description\": \"\"\n      }\n    },\n    {\n      \"column\": \"article\",\n      \"properties\": {\n        \"dtype\": \"string\",\n        \"num_unique_values\": 5000,\n        \"samples\": [\n          \"(CNN) -- The space shuttle program should have come to an end a long time ago, NASA administrator Charles Bolden told CNN in an exclusive interview Wednesday. The 30-year program has been kept on life support because the United States has not readied another vehicle to take its place. \\\"What is not acceptable is the fact that the most powerful nation in the world, the United States of America, finds itself in a situation that we didn't do the proper planning to have a vehicle in place to replace shuttle when it lands its last landing,\\\" Bolden said. NASA originally planned to retire the aging shuttle fleet last September, but mission delays have pushed that date. But once Endeavour, Atlantis and Discovery are permanently grounded, Russia's aging Soyuz capsules will ferry astronauts and cosmonauts to the space station and bring what supplies can fit in the smaller craft. And that will have to do, perhaps throughout this decade, until commercial cargo spacecraft are available. The last shuttle landing, according to the administrator, will not be in April when Endeavour is scheduled to fly. NASA says it wants one more mission to resupply the space station. That flight would be STS-135 this summer, using the Atlantis orbiter and designated with the acronym that stands for \\\"Space Transportation System.\\\" But whether NASA will have the money for the flight -- about a half a billion dollars -- is in question. \\\"We are budgeted for 135 and unless something disastrous happens, it's our intent to fly it,\\\" said Bolden, \\\"It's in the authorization bill signed by the president back in November, so for me it's the law and I'm excited about it because I need it, so we plan to fly 135.\\\" That would leave three flights before the program ends. STS-133 using Discovery sits on the launch pad ready to make its last trip into space Thursday. In April, STS-134 with Endeavour is schedule to fly. Commanding that mission is astronaut Mark Kelly. Kelly's wife, U.S. Rep. Gabrielle Giffords, was among 19 people shot in Arizona during a political event. Giffords is going through rehabilitation in Houston as she recovers from a gunshot wound to the head. During a news conference, Kelly said his wife would attend his launch. \\\"I pray that he is absolutely correct,\\\" Bolden said, \\\"because for all in the NASA family, who have been praying with him ever since that Saturday, and all of us who love her and him, It would be just tremendous, it would be tremendous for the nation. It would give everybody a big boost.\\\" But with those launches, the nation is seeing an end to its only means of putting humans in space. It is also seeing an end to a program that caught the public's attention nearly 30 years ago, with the launch on April 12, 1981, of the shuttle Columbia on the program's first mission. Bolden hopes that at least two commercial space companies will emerge to transport astronauts to the International Space Station. This will allow NASA to concentrate on building a new heavy-lift rocket capable of leaving lower Earth orbit. There had been concern whether the space agency would have enough money to develop this vehicle. Bolden said the money is there to build a vehicle that will evolve over time. \\\"When I say we are not going to do things the way we used to, we're not building the world's heaviest, biggest rocket right out of the chute. It's going to take us ... a decade or so to get to the point that we have the final vehicle that is going to take the first humans to Mars,\\\" said Bolden. The White House has said it wants humans on Mars by the mid-2030s. Right now, Bolden says his priority is flying these last three shuttle missions and bringing the astronauts home safely.\",\n          \"(CNN) -- Erroll Southers In the aftermath of the attempted bombing of Northwest Flight 253, it is likely the Senate will move to confirm the embattled nomination of Southers as head of the Transportation Security Administration when it returns from its winter recess. Objections to Southers' confirmation were first made by Republican Sen. Jim DeMint of South Carolina over the potential unionization of TSA employees. Southers is the Los Angeles International Airport's assistant chief for homeland security and intelligence. The airport's police department, which Southers has helped manage since early 2007, is the largest such operation in the country, with approximately 1,200 employees. Southers is also associate director at the Center for Risk and Economic Analysis of Terrorism Events at the University of Southern California. The former FBI special agent served as a deputy director of homeland security for California Gov. Arnold Schwarzenegger. CNN Political Ticker: DeMint defends blocking appointment . Miriam Siefer The attorney who will defend the 23-year-old Nigerian man accused of trying to blow up Northwest Flight 253 is no stranger to terrorism cases, according to The Detroit News. Miriam Siefer, chief federal defender with the Federal Defender Office in Detroit, Michigan, represented James Nichols when he was a suspect in the Oklahoma City bombing. His brother Terry Nichols was convicted for that act of domestic terrorism. Siefer is now the lead attorney for Umar Farouk AbdulMutallab, who is accused of hiding explosive materials sewn into his underwear that could have brought down the airplane. \\\"She's one of a handful of people who is universally respected and admired by people in the U.S. Attorney's Office,\\\" said Alan Gershel, the former head of criminal prosecutions in Detroit who now is a law professor at Cooley Law School in Auburn Hills, Michigan. Detroit News: Suspect's lawyer old hand at terror cases . Micah Fialka-Feldman A U.S. district judge has ruled that Oakland University in Rochester, Michigan, violated a federal law by refusing to allow Fialka-Feldman, a disabled student, to live in a campus dorm and now must make a room available for him. The Detroit News and NPR report that Fialka-Feldman has a mild cognitive impairment that hinders his ability to read and write. But the university said because he was in a special program and not a full-time student, he couldn't live on campus. It took him two buses and two hours to get to campus from his parents' home. The judge ruled that Oakland University had discriminated against Fialka-Feldman, who says he will hang a poster in his room with quotes from civil rights leaders. One says: \\\"A community that excludes one member is not a community at all.\\\" NPR: Intellectually disabled student wins dorm suit . Detroit News: Student wins housing fight . William Koch The Palm Beach, Florida, billionaire says that a 1787 Lafite Bordeaux with Thomas Jefferson's initials etched into the bottle is fake. \\\"I thought that I had a piece of history, a piece of America's most important history,\\\" Koch told the Los Angeles Times. So Koch sued the seller and has filed four other lawsuits. He says there are more to come. His goal is to clean up an industry where a single bottle can go for more than $100,000. In 1989, Koch purchased the Lafite and three other bottles of Bordeaux, also purported to be Jefferson's, for about $500,000. In the federal lawsuit he filed in New York against the wine supplier, Koch claims Jefferson's \\\"initials\\\" were etched into the bottle with modern-day power tools. Los Angeles Times: Wine collector sues over alleged fakery . Michael Landers This 15-year-old 10th-grader from Old Westbury, New York, is the youngest player to win the men's national singles championship in table tennis, or pingpong. In a New York Times profile, Landers says his training can last 30 hours each week. For 14 months, Goran Milanovic, a former Serbian discuss thrower, has been putting him through 90-minute workouts two or three times a week. NY Times: The ping-pong prodigy . What makes a person intriguing? There are people who enter the news cycle every day because their actions or decisions are new, important or different. Others are in the news because they are the ones those decisions affect. And there are a number of people who are so famous or controversial that anything they say or do becomes news. Some of these people do what we expect of them: They run for office, pass legislation, start a business, get hired or fired, commit a crime, make an arrest, get in accidents, hit a home run, overthrow a government, fight wars, sue an opponent, put out fires, prepare for hurricanes and cavort with people other than their spouses. They do make news, but the action is usually more important than who is involved in the story. But every day, there are a number of people who become fascinating to us -- by virtue of their character, how they reached their decision, how they behaved under pressure or because of the remarkable circumstances surrounding the event they are involved in. They arouse our curiosity. We hear about them and want to know more. What they have done or said stimulates conversations across the country. At times, there is even a mystery about them. What they have done may be unique, heroic, cowardly or ghastly, but they capture our imaginations. We want to know what makes them tick, why they believe what they do, and why they did what they did. They intrigue us.\",\n          \"Jose Mourinho, Lionel Messi and Ronaldinho are the star names confirmed for Deco's testimonial in July. The match in honour of the former Portuguese international will feature two of his teams, Porto's Class of '04 and Barcelona's Class of '06. Mourinho, currently in charge of Chelsea, will manage his Champions League-winning hosts at the Dragao Stadium. VIDEO Scroll to the bottom to watch some of Jose's funniest moment from the season . Remember me? Jose Mourinho will take charge of Porto for Deco's testimonial in July . Superstars: Lionel Messi and Ronaldinho will reunite for Barcelona's Class of '06, coached by Frank Rijkaard . Calls time: Deco called time on his glittering career earlier this year . After kick-starting a generation at the Catalan club, Dutch coach Frank Rijkaard will take charge of fellow European winners in 2006 Barca in the one-off game. Lionel Messi, Ronaldinho, Samuel Eto'o and Henrik Larsson will be on show according to Portuguese publication O Jogo, while Xavi and Andres Iniesta's participation depends on their fitness after the World Cup. Messi made his debut in a Barcelona shirt at the Dragao Stadium, and the match will give him a chance to link up with his idol once again. A teenage Argentine eventually oversaw Ronaldinho's departure to AC Milan with his sparkling displays, but owes a lot to the former No 10. 'Ronaldinho made everything much easier for me,' Messi told Barcelona's club website last year. 'He was also responsible for the change in Bar\\u00e7a. It was a bad time and the change that came about with his arrival was amazing. 'In the first year, he didn\\u2019t win anything but people fell in love with him. Then the trophies started coming and he made all those people happy. Bar\\u00e7a should always be grateful for everything he did.' European success: Barcelona won the Champions League in 2006, while Porto won in 2004 . Idol: Ronaldinho helped Messi settle upon his arrival in Spain as a teenager . Deco retired earlier this year after a glittering career. The Brazilian-born playmaker made his name at Porto, starring in that European success in 2004, then moving on to Barcelona. A switch to Chelsea saw him experience the Premier League, and he finished his career back at Fluminense in Brazil. Ricardo Carvaloho and Paolo Ferreira will star for Porto, and the game is set to take place on July 25 at 7.45pm. Playmaker: Deco made his name at Porto, and his testimonial will be on July 25 .\"\n        ],\n        \"semantic_type\": \"\",\n        \"description\": \"\"\n      }\n    },\n    {\n      \"column\": \"highlights\",\n      \"properties\": {\n        \"dtype\": \"string\",\n        \"num_unique_values\": 4995,\n        \"samples\": [\n          \"Hammond\\u00a0warns against complacency in the fight to disrupt terror plots .\\nForeign ministers from across the globe fly into London for talks .\\nThey will discuss plan to take on jihadis and prevent Paris-style attacks .\\nDavid Cameron promises the UK will do 'everything we can' to help Iraq .\",\n          \"Sheikh Ahmed bin Zayed Al Nahyan missing since plane crashed into lake in Morocco .\\nSheikh was managing director of the Dhabi Investment Authority .\\nHe also was a brother of the ruler of Abu Dhabi and Forbes' 27th richest person in world .\",\n          \"Online banking, microwaving and connecting to WiFi among most 'essential' skills .\\nKnitting, baking bread and writing letters no longer considered important .\\n2,000 adults polled in survey which listed knowing how to use Google as most needed skill .\"\n        ],\n        \"semantic_type\": \"\",\n        \"description\": \"\"\n      }\n    }\n  ]\n}"
            }
          },
          "metadata": {},
          "execution_count": 2
        }
      ]
    },
    {
      "cell_type": "code",
      "source": [
        "import torch\n",
        "print(\"CUDA Available:\", torch.cuda.is_available())\n",
        "if torch.cuda.is_available():\n",
        "    print(\"GPU Name:\", torch.cuda.get_device_name(0))"
      ],
      "metadata": {
        "colab": {
          "base_uri": "https://localhost:8080/"
        },
        "id": "yRpAIdPNKxw_",
        "outputId": "b7a3f893-9e9b-4c8a-e96a-a971dc97427f"
      },
      "execution_count": 3,
      "outputs": [
        {
          "output_type": "stream",
          "name": "stdout",
          "text": [
            "CUDA Available: True\n",
            "GPU Name: Tesla T4\n"
          ]
        }
      ]
    },
    {
      "cell_type": "code",
      "source": [
        "# STEP 4: Summarization pipeline (DistilBART, GPU)\n",
        "from transformers import pipeline\n",
        "\n",
        "summarizer = pipeline(\n",
        "    \"summarization\",\n",
        "    model=\"sshleifer/distilbart-cnn-12-6\",  # smaller & faster summarizer\n",
        "    device=0  # GPU mode\n",
        ")\n",
        "\n",
        "auto_summaries = []\n",
        "\n",
        "# Summarize with checkpoint saving\n",
        "for i, text in enumerate(tqdm(df[\"article\"].astype(str).tolist(), desc=\"Summarizing\")):\n",
        "    if not text.strip():\n",
        "        auto_summaries.append(\"\")\n",
        "        continue\n",
        "\n",
        "    try:\n",
        "        summary = summarizer(\n",
        "            text,\n",
        "            max_length=130,\n",
        "            min_length=30,\n",
        "            truncation=True\n",
        "        )[0]['summary_text']\n",
        "    except Exception as e:\n",
        "        print(f\"Skipped row {i} due to:\", e)\n",
        "        summary = \"\"\n",
        "\n",
        "    auto_summaries.append(summary)\n",
        "\n",
        "    # Save progress every 500 rows\n",
        "    if (i + 1) % 500 == 0:\n",
        "        df.loc[:i, \"auto_summary\"] = auto_summaries\n",
        "        df[:i+1].to_csv(f\"/content/drive/MyDrive/train_summarized_checkpoint_{i+1}.csv\", index=False)\n",
        "        print(f\"Checkpoint saved at {i+1} records\")\n",
        "\n",
        "# Final save\n",
        "df[\"auto_summary\"] = auto_summaries\n",
        "df.to_csv(\"/content/drive/MyDrive/train_summarized_2000.csv\", index=False)\n",
        "print(\" Final file saved: train_summarized_2000.csv\")\n"
      ],
      "metadata": {
        "colab": {
          "base_uri": "https://localhost:8080/"
        },
        "id": "77ZqPApeKjdz",
        "outputId": "72c4e2cf-3635-4bc3-a923-9bffe2c4227b"
      },
      "execution_count": 9,
      "outputs": [
        {
          "metadata": {
            "tags": null
          },
          "name": "stderr",
          "output_type": "stream",
          "text": [
            "Device set to use cuda:0\n",
            "Summarizing:  10%|█         | 500/5000 [08:12<1:13:56,  1.01it/s]"
          ]
        },
        {
          "metadata": {
            "tags": null
          },
          "name": "stdout",
          "output_type": "stream",
          "text": [
            "Checkpoint saved at 500 records\n"
          ]
        },
        {
          "metadata": {
            "tags": null
          },
          "name": "stderr",
          "output_type": "stream",
          "text": [
            "Summarizing:  14%|█▍        | 717/5000 [11:45<1:04:52,  1.10it/s]Your max_length is set to 130, but your input_length is only 71. Since this is a summarization task, where outputs shorter than the input are typically wanted, you might consider decreasing max_length manually, e.g. summarizer('...', max_length=35)\n",
            "Summarizing:  20%|██        | 1000/5000 [16:08<54:15,  1.23it/s]"
          ]
        },
        {
          "metadata": {
            "tags": null
          },
          "name": "stdout",
          "output_type": "stream",
          "text": [
            "Checkpoint saved at 1000 records\n"
          ]
        },
        {
          "metadata": {
            "tags": null
          },
          "name": "stderr",
          "output_type": "stream",
          "text": [
            "Summarizing:  30%|███       | 1500/5000 [24:14<1:08:32,  1.18s/it]"
          ]
        },
        {
          "metadata": {
            "tags": null
          },
          "name": "stdout",
          "output_type": "stream",
          "text": [
            "Checkpoint saved at 1500 records\n"
          ]
        },
        {
          "metadata": {
            "tags": null
          },
          "name": "stderr",
          "output_type": "stream",
          "text": [
            "Summarizing:  38%|███▊      | 1875/5000 [30:27<45:07,  1.15it/s]Your max_length is set to 130, but your input_length is only 84. Since this is a summarization task, where outputs shorter than the input are typically wanted, you might consider decreasing max_length manually, e.g. summarizer('...', max_length=42)\n",
            "Summarizing:  40%|████      | 2000/5000 [32:27<50:52,  1.02s/it]"
          ]
        },
        {
          "metadata": {
            "tags": null
          },
          "name": "stdout",
          "output_type": "stream",
          "text": [
            "Checkpoint saved at 2000 records\n"
          ]
        },
        {
          "metadata": {
            "tags": null
          },
          "name": "stderr",
          "output_type": "stream",
          "text": [
            "Summarizing:  45%|████▍     | 2234/5000 [36:12<40:23,  1.14it/s]Your max_length is set to 130, but your input_length is only 126. Since this is a summarization task, where outputs shorter than the input are typically wanted, you might consider decreasing max_length manually, e.g. summarizer('...', max_length=63)\n",
            "Summarizing:  50%|█████     | 2500/5000 [40:23<40:49,  1.02it/s]"
          ]
        },
        {
          "metadata": {
            "tags": null
          },
          "name": "stdout",
          "output_type": "stream",
          "text": [
            "Checkpoint saved at 2500 records\n"
          ]
        },
        {
          "metadata": {
            "tags": null
          },
          "name": "stderr",
          "output_type": "stream",
          "text": [
            "Summarizing:  60%|██████    | 3000/5000 [48:22<36:08,  1.08s/it]"
          ]
        },
        {
          "metadata": {
            "tags": null
          },
          "name": "stdout",
          "output_type": "stream",
          "text": [
            "Checkpoint saved at 3000 records\n"
          ]
        },
        {
          "metadata": {
            "tags": null
          },
          "name": "stderr",
          "output_type": "stream",
          "text": [
            "Summarizing:  70%|███████   | 3500/5000 [56:20<29:18,  1.17s/it]"
          ]
        },
        {
          "metadata": {
            "tags": null
          },
          "name": "stdout",
          "output_type": "stream",
          "text": [
            "Checkpoint saved at 3500 records\n"
          ]
        },
        {
          "metadata": {
            "tags": null
          },
          "name": "stderr",
          "output_type": "stream",
          "text": [
            "Summarizing:  80%|███████▉  | 3977/5000 [1:04:09<17:18,  1.02s/it]Your max_length is set to 130, but your input_length is only 65. Since this is a summarization task, where outputs shorter than the input are typically wanted, you might consider decreasing max_length manually, e.g. summarizer('...', max_length=32)\n",
            "Summarizing:  80%|████████  | 4000/5000 [1:04:34<20:21,  1.22s/it]"
          ]
        },
        {
          "metadata": {
            "tags": null
          },
          "name": "stdout",
          "output_type": "stream",
          "text": [
            "Checkpoint saved at 4000 records\n"
          ]
        },
        {
          "metadata": {
            "tags": null
          },
          "name": "stderr",
          "output_type": "stream",
          "text": [
            "Summarizing:  86%|████████▌ | 4282/5000 [1:09:05<12:30,  1.04s/it]Your max_length is set to 130, but your input_length is only 111. Since this is a summarization task, where outputs shorter than the input are typically wanted, you might consider decreasing max_length manually, e.g. summarizer('...', max_length=55)\n",
            "Summarizing:  86%|████████▌ | 4306/5000 [1:09:28<10:35,  1.09it/s]Your max_length is set to 130, but your input_length is only 116. Since this is a summarization task, where outputs shorter than the input are typically wanted, you might consider decreasing max_length manually, e.g. summarizer('...', max_length=58)\n",
            "Summarizing:  89%|████████▉ | 4441/5000 [1:11:42<10:37,  1.14s/it]Your max_length is set to 130, but your input_length is only 73. Since this is a summarization task, where outputs shorter than the input are typically wanted, you might consider decreasing max_length manually, e.g. summarizer('...', max_length=36)\n",
            "Summarizing:  90%|█████████ | 4500/5000 [1:12:38<08:10,  1.02it/s]"
          ]
        },
        {
          "metadata": {
            "tags": null
          },
          "name": "stdout",
          "output_type": "stream",
          "text": [
            "Checkpoint saved at 4500 records\n"
          ]
        },
        {
          "output_type": "stream",
          "name": "stderr",
          "text": [
            "Summarizing:  91%|█████████▏| 4573/5000 [1:13:47<05:27,  1.30it/s]Your max_length is set to 130, but your input_length is only 79. Since this is a summarization task, where outputs shorter than the input are typically wanted, you might consider decreasing max_length manually, e.g. summarizer('...', max_length=39)\n",
            "Summarizing: 100%|██████████| 5000/5000 [1:20:33<00:00,  1.03it/s]"
          ]
        },
        {
          "output_type": "stream",
          "name": "stdout",
          "text": [
            "Checkpoint saved at 5000 records\n"
          ]
        },
        {
          "output_type": "stream",
          "name": "stderr",
          "text": [
            "\n"
          ]
        },
        {
          "output_type": "stream",
          "name": "stdout",
          "text": [
            "✅ Final file saved: train_summarized_2000.csv\n"
          ]
        }
      ]
    },
    {
      "cell_type": "code",
      "source": [
        "df = df.head(1000).reset_index(drop=True)"
      ],
      "metadata": {
        "id": "Yy2qhLSGipuR"
      },
      "execution_count": 4,
      "outputs": []
    },
    {
      "cell_type": "code",
      "source": [
        "# STEP 5: Geo-extraction + Geocoding (optimized)\n",
        "import spacy\n",
        "from geopy.geocoders import Nominatim\n",
        "from geopy.extra.rate_limiter import RateLimiter\n",
        "from tqdm import tqdm\n",
        "from time import sleep\n",
        "import random\n",
        "\n",
        "# Load SpaCy\n",
        "nlp = spacy.load(\"en_core_web_sm\")\n",
        "\n",
        "# Setup Nominatim\n",
        "geolocator = Nominatim(user_agent=\"geo_news\", timeout=10)\n",
        "geocode = RateLimiter(geolocator.geocode, min_delay_seconds=1)\n",
        "\n",
        "# Cache to avoid repeated lookups\n",
        "geo_cache = {}\n",
        "\n",
        "# Retry wrapper with exponential backoff\n",
        "def safe_geocode(loc):\n",
        "    if loc in geo_cache:\n",
        "        return geo_cache[loc]\n",
        "    for attempt in range(3):\n",
        "        try:\n",
        "            g = geocode(loc)\n",
        "            geo_cache[loc] = g\n",
        "            return g\n",
        "        except Exception as e:\n",
        "            print(f\" Geocode failed for {loc}, attempt {attempt+1}: {e}\")\n",
        "            sleep(2 ** attempt + random.random())\n",
        "    geo_cache[loc] = None\n",
        "    return None\n",
        "\n",
        "# Storage lists\n",
        "geo_mentions = []\n",
        "geo_coords = []\n",
        "primary_lat = []\n",
        "primary_lon = []\n",
        "\n",
        "for i, text in enumerate(tqdm(df[\"article\"].astype(str).tolist(), desc=\"Geoparsing\")):\n",
        "    doc = nlp(text)\n",
        "    locs = [ent.text for ent in doc.ents if ent.label_ in (\"GPE\",\"LOC\")]\n",
        "    locs = list(dict.fromkeys(locs))  # deduplicate\n",
        "\n",
        "    coords = []\n",
        "    if locs:  # only geocode first location\n",
        "        first_loc = locs[0]\n",
        "        g = safe_geocode(first_loc)\n",
        "        if g:\n",
        "            coords = [[g.latitude, g.longitude]]\n",
        "\n",
        "    geo_mentions.append(locs)\n",
        "    geo_coords.append(coords)\n",
        "    if coords:\n",
        "        primary_lat.append(coords[0][0])\n",
        "        primary_lon.append(coords[0][1])\n",
        "    else:\n",
        "        primary_lat.append(None)\n",
        "        primary_lon.append(None)\n",
        "\n",
        "    #  Checkpoint save\n",
        "    if (i + 1) % 500 == 0:\n",
        "        checkpoint_df = df.iloc[:i+1].copy()\n",
        "        checkpoint_df[\"geo_mentions\"] = geo_mentions\n",
        "        checkpoint_df[\"geo_coordinates\"] = geo_coords\n",
        "        checkpoint_df[\"primary_lat\"] = primary_lat\n",
        "        checkpoint_df[\"primary_lon\"] = primary_lon\n",
        "        checkpoint_df.to_csv(f\"/content/drive/MyDrive/final_output_checkpoint_{i+1}.csv\", index=False)\n",
        "        print(f\" Checkpoint saved at {i+1} records\")\n",
        "\n",
        "# Final save\n",
        "final_df = df.copy()\n",
        "final_df[\"geo_mentions\"] = geo_mentions\n",
        "final_df[\"geo_coordinates\"] = geo_coords\n",
        "final_df[\"primary_lat\"] = primary_lat\n",
        "final_df[\"primary_lon\"] = primary_lon\n",
        "final_df.to_csv(\"/content/drive/MyDrive/final_output.csv\", index=False)\n",
        "print(\" Final output saved at /content/drive/MyDrive/final_output.csv\")"
      ],
      "metadata": {
        "colab": {
          "base_uri": "https://localhost:8080/"
        },
        "id": "J3ao-LeCKjmh",
        "outputId": "7e94644e-69c3-4c4f-c2ec-3112fb350986"
      },
      "execution_count": 5,
      "outputs": [
        {
          "output_type": "stream",
          "name": "stderr",
          "text": [
            "Geoparsing:  50%|█████     | 500/1000 [05:36<06:43,  1.24it/s]"
          ]
        },
        {
          "output_type": "stream",
          "name": "stdout",
          "text": [
            "✅ Checkpoint saved at 500 records\n"
          ]
        },
        {
          "output_type": "stream",
          "name": "stderr",
          "text": [
            "Geoparsing:  90%|████████▉ | 898/1000 [08:34<00:33,  3.07it/s]WARNING:geopy:RateLimiter caught an error, retrying (0/2 tries). Called with (*('Windsor v. United States',), **{}).\n",
            "Traceback (most recent call last):\n",
            "  File \"/usr/local/lib/python3.12/dist-packages/geopy/geocoders/base.py\", line 368, in _call_geocoder\n",
            "    result = self.adapter.get_json(url, timeout=timeout, headers=req_headers)\n",
            "             ^^^^^^^^^^^^^^^^^^^^^^^^^^^^^^^^^^^^^^^^^^^^^^^^^^^^^^^^^^^^^^^^\n",
            "  File \"/usr/local/lib/python3.12/dist-packages/geopy/adapters.py\", line 472, in get_json\n",
            "    resp = self._request(url, timeout=timeout, headers=headers)\n",
            "           ^^^^^^^^^^^^^^^^^^^^^^^^^^^^^^^^^^^^^^^^^^^^^^^^^^^^\n",
            "  File \"/usr/local/lib/python3.12/dist-packages/geopy/adapters.py\", line 500, in _request\n",
            "    raise AdapterHTTPError(\n",
            "geopy.adapters.AdapterHTTPError: Non-successful status code 503\n",
            "\n",
            "The above exception was the direct cause of the following exception:\n",
            "\n",
            "Traceback (most recent call last):\n",
            "  File \"/usr/local/lib/python3.12/dist-packages/geopy/extra/rate_limiter.py\", line 136, in _retries_gen\n",
            "    yield i  # Run the function.\n",
            "    ^^^^^^^\n",
            "  File \"/usr/local/lib/python3.12/dist-packages/geopy/extra/rate_limiter.py\", line 274, in __call__\n",
            "    res = self.func(*args, **kwargs)\n",
            "          ^^^^^^^^^^^^^^^^^^^^^^^^^^\n",
            "  File \"/usr/local/lib/python3.12/dist-packages/geopy/geocoders/nominatim.py\", line 297, in geocode\n",
            "    return self._call_geocoder(url, callback, timeout=timeout)\n",
            "           ^^^^^^^^^^^^^^^^^^^^^^^^^^^^^^^^^^^^^^^^^^^^^^^^^^^\n",
            "  File \"/usr/local/lib/python3.12/dist-packages/geopy/geocoders/base.py\", line 388, in _call_geocoder\n",
            "    res = self._adapter_error_handler(error)\n",
            "          ^^^^^^^^^^^^^^^^^^^^^^^^^^^^^^^^^^\n",
            "  File \"/usr/local/lib/python3.12/dist-packages/geopy/geocoders/base.py\", line 411, in _adapter_error_handler\n",
            "    raise exc_cls(str(error)) from error\n",
            "geopy.exc.GeocoderTimedOut: Non-successful status code 503\n",
            "Geoparsing: 100%|██████████| 1000/1000 [09:28<00:00,  1.76it/s]"
          ]
        },
        {
          "output_type": "stream",
          "name": "stdout",
          "text": [
            "✅ Checkpoint saved at 1000 records\n",
            "🎉 Final output saved at /content/drive/MyDrive/final_output.csv\n"
          ]
        },
        {
          "output_type": "stream",
          "name": "stderr",
          "text": [
            "\n"
          ]
        }
      ]
    },
    {
      "cell_type": "code",
      "source": [
        "final_df.head(5)\n",
        "final_df[[\"article\", \"geo_mentions\", \"geo_coordinates\", \"primary_lat\", \"primary_lon\"]].sample(10)\n"
      ],
      "metadata": {
        "colab": {
          "base_uri": "https://localhost:8080/",
          "height": 519
        },
        "id": "qk3pBpDgySR6",
        "outputId": "350db7c2-d8d1-4e88-de98-714002822e07"
      },
      "execution_count": 6,
      "outputs": [
        {
          "output_type": "execute_result",
          "data": {
            "text/plain": [
              "                                               article  \\\n",
              "917  (CNN) -- An Egyptian court Monday ordered a ba...   \n",
              "858  By . Daily Mail Reporter . David Cameron has i...   \n",
              "270  (CNN) -- These days, no fashion house portfoli...   \n",
              "572  By . Becky Evans . PUBLISHED: . 11:08 EST, 5 D...   \n",
              "984  Explorers have recovered Apollo 11 engines fro...   \n",
              "120  (CNN) -- Tour de France race director Christia...   \n",
              "504  (CNN) -- Actor Michael Jai White thinks the ne...   \n",
              "731  It smashed all book-selling records at the sta...   \n",
              "396  By . Gerri Peev . PUBLISHED: . 17:47 EST, 24 N...   \n",
              "401  A teenager has been suspended from school afte...   \n",
              "\n",
              "                                          geo_mentions  \\\n",
              "917         [Washington, Egypt, U.S., New York, Cairo]   \n",
              "858  [Woolwich, London, UK, Rigby, Birmingham, Sout...   \n",
              "270                   [Miami, Lagerfeld, Macau, Milan]   \n",
              "572                            [Edinburgh, Mortonhall]   \n",
              "984  [the Atlantic Ocean, Florida, Earth, the Pacif...   \n",
              "120             [Porto-Vecchio, Calvi, Ajaccio, Liege]   \n",
              "504                            [Hollywood, Washington]   \n",
              "731                                                 []   \n",
              "396  [England, Scotland, London, West Yorkshire, Du...   \n",
              "401                                                 []   \n",
              "\n",
              "                 geo_coordinates  primary_lat  primary_lon  \n",
              "917  [[38.8950368, -77.0365427]]    38.895037   -77.036543  \n",
              "858    [[51.4826696, 0.0623335]]    51.482670     0.062334  \n",
              "270    [[25.7741728, -80.19362]]    25.774173   -80.193620  \n",
              "572   [[55.9533456, -3.1883749]]    55.953346    -3.188375  \n",
              "984   [[39.2796505, -74.567832]]    39.279651   -74.567832  \n",
              "120    [[41.5911382, 9.2794469]]    41.591138     9.279447  \n",
              "504  [[34.0980031, -118.329523]]    34.098003  -118.329523  \n",
              "731                           []          NaN          NaN  \n",
              "396   [[52.5310214, -1.2649062]]    52.531021    -1.264906  \n",
              "401                           []          NaN          NaN  "
            ],
            "text/html": [
              "\n",
              "  <div id=\"df-43eb8a65-a99f-40ed-81fc-0f62dd39871a\" class=\"colab-df-container\">\n",
              "    <div>\n",
              "<style scoped>\n",
              "    .dataframe tbody tr th:only-of-type {\n",
              "        vertical-align: middle;\n",
              "    }\n",
              "\n",
              "    .dataframe tbody tr th {\n",
              "        vertical-align: top;\n",
              "    }\n",
              "\n",
              "    .dataframe thead th {\n",
              "        text-align: right;\n",
              "    }\n",
              "</style>\n",
              "<table border=\"1\" class=\"dataframe\">\n",
              "  <thead>\n",
              "    <tr style=\"text-align: right;\">\n",
              "      <th></th>\n",
              "      <th>article</th>\n",
              "      <th>geo_mentions</th>\n",
              "      <th>geo_coordinates</th>\n",
              "      <th>primary_lat</th>\n",
              "      <th>primary_lon</th>\n",
              "    </tr>\n",
              "  </thead>\n",
              "  <tbody>\n",
              "    <tr>\n",
              "      <th>917</th>\n",
              "      <td>(CNN) -- An Egyptian court Monday ordered a ba...</td>\n",
              "      <td>[Washington, Egypt, U.S., New York, Cairo]</td>\n",
              "      <td>[[38.8950368, -77.0365427]]</td>\n",
              "      <td>38.895037</td>\n",
              "      <td>-77.036543</td>\n",
              "    </tr>\n",
              "    <tr>\n",
              "      <th>858</th>\n",
              "      <td>By . Daily Mail Reporter . David Cameron has i...</td>\n",
              "      <td>[Woolwich, London, UK, Rigby, Birmingham, Sout...</td>\n",
              "      <td>[[51.4826696, 0.0623335]]</td>\n",
              "      <td>51.482670</td>\n",
              "      <td>0.062334</td>\n",
              "    </tr>\n",
              "    <tr>\n",
              "      <th>270</th>\n",
              "      <td>(CNN) -- These days, no fashion house portfoli...</td>\n",
              "      <td>[Miami, Lagerfeld, Macau, Milan]</td>\n",
              "      <td>[[25.7741728, -80.19362]]</td>\n",
              "      <td>25.774173</td>\n",
              "      <td>-80.193620</td>\n",
              "    </tr>\n",
              "    <tr>\n",
              "      <th>572</th>\n",
              "      <td>By . Becky Evans . PUBLISHED: . 11:08 EST, 5 D...</td>\n",
              "      <td>[Edinburgh, Mortonhall]</td>\n",
              "      <td>[[55.9533456, -3.1883749]]</td>\n",
              "      <td>55.953346</td>\n",
              "      <td>-3.188375</td>\n",
              "    </tr>\n",
              "    <tr>\n",
              "      <th>984</th>\n",
              "      <td>Explorers have recovered Apollo 11 engines fro...</td>\n",
              "      <td>[the Atlantic Ocean, Florida, Earth, the Pacif...</td>\n",
              "      <td>[[39.2796505, -74.567832]]</td>\n",
              "      <td>39.279651</td>\n",
              "      <td>-74.567832</td>\n",
              "    </tr>\n",
              "    <tr>\n",
              "      <th>120</th>\n",
              "      <td>(CNN) -- Tour de France race director Christia...</td>\n",
              "      <td>[Porto-Vecchio, Calvi, Ajaccio, Liege]</td>\n",
              "      <td>[[41.5911382, 9.2794469]]</td>\n",
              "      <td>41.591138</td>\n",
              "      <td>9.279447</td>\n",
              "    </tr>\n",
              "    <tr>\n",
              "      <th>504</th>\n",
              "      <td>(CNN) -- Actor Michael Jai White thinks the ne...</td>\n",
              "      <td>[Hollywood, Washington]</td>\n",
              "      <td>[[34.0980031, -118.329523]]</td>\n",
              "      <td>34.098003</td>\n",
              "      <td>-118.329523</td>\n",
              "    </tr>\n",
              "    <tr>\n",
              "      <th>731</th>\n",
              "      <td>It smashed all book-selling records at the sta...</td>\n",
              "      <td>[]</td>\n",
              "      <td>[]</td>\n",
              "      <td>NaN</td>\n",
              "      <td>NaN</td>\n",
              "    </tr>\n",
              "    <tr>\n",
              "      <th>396</th>\n",
              "      <td>By . Gerri Peev . PUBLISHED: . 17:47 EST, 24 N...</td>\n",
              "      <td>[England, Scotland, London, West Yorkshire, Du...</td>\n",
              "      <td>[[52.5310214, -1.2649062]]</td>\n",
              "      <td>52.531021</td>\n",
              "      <td>-1.264906</td>\n",
              "    </tr>\n",
              "    <tr>\n",
              "      <th>401</th>\n",
              "      <td>A teenager has been suspended from school afte...</td>\n",
              "      <td>[]</td>\n",
              "      <td>[]</td>\n",
              "      <td>NaN</td>\n",
              "      <td>NaN</td>\n",
              "    </tr>\n",
              "  </tbody>\n",
              "</table>\n",
              "</div>\n",
              "    <div class=\"colab-df-buttons\">\n",
              "\n",
              "  <div class=\"colab-df-container\">\n",
              "    <button class=\"colab-df-convert\" onclick=\"convertToInteractive('df-43eb8a65-a99f-40ed-81fc-0f62dd39871a')\"\n",
              "            title=\"Convert this dataframe to an interactive table.\"\n",
              "            style=\"display:none;\">\n",
              "\n",
              "  <svg xmlns=\"http://www.w3.org/2000/svg\" height=\"24px\" viewBox=\"0 -960 960 960\">\n",
              "    <path d=\"M120-120v-720h720v720H120Zm60-500h600v-160H180v160Zm220 220h160v-160H400v160Zm0 220h160v-160H400v160ZM180-400h160v-160H180v160Zm440 0h160v-160H620v160ZM180-180h160v-160H180v160Zm440 0h160v-160H620v160Z\"/>\n",
              "  </svg>\n",
              "    </button>\n",
              "\n",
              "  <style>\n",
              "    .colab-df-container {\n",
              "      display:flex;\n",
              "      gap: 12px;\n",
              "    }\n",
              "\n",
              "    .colab-df-convert {\n",
              "      background-color: #E8F0FE;\n",
              "      border: none;\n",
              "      border-radius: 50%;\n",
              "      cursor: pointer;\n",
              "      display: none;\n",
              "      fill: #1967D2;\n",
              "      height: 32px;\n",
              "      padding: 0 0 0 0;\n",
              "      width: 32px;\n",
              "    }\n",
              "\n",
              "    .colab-df-convert:hover {\n",
              "      background-color: #E2EBFA;\n",
              "      box-shadow: 0px 1px 2px rgba(60, 64, 67, 0.3), 0px 1px 3px 1px rgba(60, 64, 67, 0.15);\n",
              "      fill: #174EA6;\n",
              "    }\n",
              "\n",
              "    .colab-df-buttons div {\n",
              "      margin-bottom: 4px;\n",
              "    }\n",
              "\n",
              "    [theme=dark] .colab-df-convert {\n",
              "      background-color: #3B4455;\n",
              "      fill: #D2E3FC;\n",
              "    }\n",
              "\n",
              "    [theme=dark] .colab-df-convert:hover {\n",
              "      background-color: #434B5C;\n",
              "      box-shadow: 0px 1px 3px 1px rgba(0, 0, 0, 0.15);\n",
              "      filter: drop-shadow(0px 1px 2px rgba(0, 0, 0, 0.3));\n",
              "      fill: #FFFFFF;\n",
              "    }\n",
              "  </style>\n",
              "\n",
              "    <script>\n",
              "      const buttonEl =\n",
              "        document.querySelector('#df-43eb8a65-a99f-40ed-81fc-0f62dd39871a button.colab-df-convert');\n",
              "      buttonEl.style.display =\n",
              "        google.colab.kernel.accessAllowed ? 'block' : 'none';\n",
              "\n",
              "      async function convertToInteractive(key) {\n",
              "        const element = document.querySelector('#df-43eb8a65-a99f-40ed-81fc-0f62dd39871a');\n",
              "        const dataTable =\n",
              "          await google.colab.kernel.invokeFunction('convertToInteractive',\n",
              "                                                    [key], {});\n",
              "        if (!dataTable) return;\n",
              "\n",
              "        const docLinkHtml = 'Like what you see? Visit the ' +\n",
              "          '<a target=\"_blank\" href=https://colab.research.google.com/notebooks/data_table.ipynb>data table notebook</a>'\n",
              "          + ' to learn more about interactive tables.';\n",
              "        element.innerHTML = '';\n",
              "        dataTable['output_type'] = 'display_data';\n",
              "        await google.colab.output.renderOutput(dataTable, element);\n",
              "        const docLink = document.createElement('div');\n",
              "        docLink.innerHTML = docLinkHtml;\n",
              "        element.appendChild(docLink);\n",
              "      }\n",
              "    </script>\n",
              "  </div>\n",
              "\n",
              "\n",
              "    <div id=\"df-426581ac-af08-4f7e-99fc-ad87508cb48a\">\n",
              "      <button class=\"colab-df-quickchart\" onclick=\"quickchart('df-426581ac-af08-4f7e-99fc-ad87508cb48a')\"\n",
              "                title=\"Suggest charts\"\n",
              "                style=\"display:none;\">\n",
              "\n",
              "<svg xmlns=\"http://www.w3.org/2000/svg\" height=\"24px\"viewBox=\"0 0 24 24\"\n",
              "     width=\"24px\">\n",
              "    <g>\n",
              "        <path d=\"M19 3H5c-1.1 0-2 .9-2 2v14c0 1.1.9 2 2 2h14c1.1 0 2-.9 2-2V5c0-1.1-.9-2-2-2zM9 17H7v-7h2v7zm4 0h-2V7h2v10zm4 0h-2v-4h2v4z\"/>\n",
              "    </g>\n",
              "</svg>\n",
              "      </button>\n",
              "\n",
              "<style>\n",
              "  .colab-df-quickchart {\n",
              "      --bg-color: #E8F0FE;\n",
              "      --fill-color: #1967D2;\n",
              "      --hover-bg-color: #E2EBFA;\n",
              "      --hover-fill-color: #174EA6;\n",
              "      --disabled-fill-color: #AAA;\n",
              "      --disabled-bg-color: #DDD;\n",
              "  }\n",
              "\n",
              "  [theme=dark] .colab-df-quickchart {\n",
              "      --bg-color: #3B4455;\n",
              "      --fill-color: #D2E3FC;\n",
              "      --hover-bg-color: #434B5C;\n",
              "      --hover-fill-color: #FFFFFF;\n",
              "      --disabled-bg-color: #3B4455;\n",
              "      --disabled-fill-color: #666;\n",
              "  }\n",
              "\n",
              "  .colab-df-quickchart {\n",
              "    background-color: var(--bg-color);\n",
              "    border: none;\n",
              "    border-radius: 50%;\n",
              "    cursor: pointer;\n",
              "    display: none;\n",
              "    fill: var(--fill-color);\n",
              "    height: 32px;\n",
              "    padding: 0;\n",
              "    width: 32px;\n",
              "  }\n",
              "\n",
              "  .colab-df-quickchart:hover {\n",
              "    background-color: var(--hover-bg-color);\n",
              "    box-shadow: 0 1px 2px rgba(60, 64, 67, 0.3), 0 1px 3px 1px rgba(60, 64, 67, 0.15);\n",
              "    fill: var(--button-hover-fill-color);\n",
              "  }\n",
              "\n",
              "  .colab-df-quickchart-complete:disabled,\n",
              "  .colab-df-quickchart-complete:disabled:hover {\n",
              "    background-color: var(--disabled-bg-color);\n",
              "    fill: var(--disabled-fill-color);\n",
              "    box-shadow: none;\n",
              "  }\n",
              "\n",
              "  .colab-df-spinner {\n",
              "    border: 2px solid var(--fill-color);\n",
              "    border-color: transparent;\n",
              "    border-bottom-color: var(--fill-color);\n",
              "    animation:\n",
              "      spin 1s steps(1) infinite;\n",
              "  }\n",
              "\n",
              "  @keyframes spin {\n",
              "    0% {\n",
              "      border-color: transparent;\n",
              "      border-bottom-color: var(--fill-color);\n",
              "      border-left-color: var(--fill-color);\n",
              "    }\n",
              "    20% {\n",
              "      border-color: transparent;\n",
              "      border-left-color: var(--fill-color);\n",
              "      border-top-color: var(--fill-color);\n",
              "    }\n",
              "    30% {\n",
              "      border-color: transparent;\n",
              "      border-left-color: var(--fill-color);\n",
              "      border-top-color: var(--fill-color);\n",
              "      border-right-color: var(--fill-color);\n",
              "    }\n",
              "    40% {\n",
              "      border-color: transparent;\n",
              "      border-right-color: var(--fill-color);\n",
              "      border-top-color: var(--fill-color);\n",
              "    }\n",
              "    60% {\n",
              "      border-color: transparent;\n",
              "      border-right-color: var(--fill-color);\n",
              "    }\n",
              "    80% {\n",
              "      border-color: transparent;\n",
              "      border-right-color: var(--fill-color);\n",
              "      border-bottom-color: var(--fill-color);\n",
              "    }\n",
              "    90% {\n",
              "      border-color: transparent;\n",
              "      border-bottom-color: var(--fill-color);\n",
              "    }\n",
              "  }\n",
              "</style>\n",
              "\n",
              "      <script>\n",
              "        async function quickchart(key) {\n",
              "          const quickchartButtonEl =\n",
              "            document.querySelector('#' + key + ' button');\n",
              "          quickchartButtonEl.disabled = true;  // To prevent multiple clicks.\n",
              "          quickchartButtonEl.classList.add('colab-df-spinner');\n",
              "          try {\n",
              "            const charts = await google.colab.kernel.invokeFunction(\n",
              "                'suggestCharts', [key], {});\n",
              "          } catch (error) {\n",
              "            console.error('Error during call to suggestCharts:', error);\n",
              "          }\n",
              "          quickchartButtonEl.classList.remove('colab-df-spinner');\n",
              "          quickchartButtonEl.classList.add('colab-df-quickchart-complete');\n",
              "        }\n",
              "        (() => {\n",
              "          let quickchartButtonEl =\n",
              "            document.querySelector('#df-426581ac-af08-4f7e-99fc-ad87508cb48a button');\n",
              "          quickchartButtonEl.style.display =\n",
              "            google.colab.kernel.accessAllowed ? 'block' : 'none';\n",
              "        })();\n",
              "      </script>\n",
              "    </div>\n",
              "\n",
              "    </div>\n",
              "  </div>\n"
            ],
            "application/vnd.google.colaboratory.intrinsic+json": {
              "type": "dataframe",
              "summary": "{\n  \"name\": \"final_df[[\\\"article\\\", \\\"geo_mentions\\\", \\\"geo_coordinates\\\", \\\"primary_lat\\\", \\\"primary_lon\\\"]]\",\n  \"rows\": 10,\n  \"fields\": [\n    {\n      \"column\": \"article\",\n      \"properties\": {\n        \"dtype\": \"string\",\n        \"num_unique_values\": 10,\n        \"samples\": [\n          \"By . Gerri Peev . PUBLISHED: . 17:47 EST, 24 November 2013 . | . UPDATED: . 18:57 EST, 24 November 2013 . One in every four pounds collected in council tax in the last year has gone to funding local government pensions in England. Of the \\u00a322.4billion handed over by families in council tax in England in 2012-13, some \\u00a35.7billion went towards paying for council workers\\u2019 pensions. More than half of all council tax revenue collected in Scotland went on local government pensions in 2011-12. Uncertain future: Pensions expert Michael Johnson claims the figures are a sign that the Local Government Pension Scheme is totally unsustainable . Scottish councils paid \\u00a31billion in employer contributions for local government pensions, yet they collected just \\u00a31.9billion in council tax. The figures, unveiled by pensions expert Michael Johnson, are a sign that the Local Government Pension Scheme is totally unsustainable, he said. In a report for the Centre for Policy Studies think-tank, he warned that high costs and lax governance are corroding the pension scheme for council workers. This would ultimately end with council taxpayers or the Treasury being landed with the liabilities for paying pensions. Mr Johnson told the Mail: \\u2018The implications of how much is spent on pensions out of the council tax collected are enormous. There is going to be an absolute societal schism in the years ahead when you compare the average public sector worker to the average private sector worker. \\u2018The public sector worker\\u2019s benefits will on average be three times more than what the private sector employee gets.\\u2019 Unlike other public sector schemes, employees do contribute to the Local Government Pension Schemes. Huge disparity: For city of London council workers the administration management costs are \\u00a3317.30 compared to just \\u00a37.60 in West Yorkshire . But an ageing population and a public sector pay freeze has eroded the value of those contributions. Experts predict that within three years the scheme will run out of cash. The weakest funds were already selling off assets just to bankroll existing pensioners. \\u2018With no realistic prospect of recovery, they are probably in a death spiral, heading to an unfunded status,\\u2019 Mr Johnson said. He warned that the \\u2018ultimate liability will probable fall on council taxpayers\\u2019. There was also a \\u2018quiet assumption\\u2009\\u2026\\u2009that one day, the Treasury will step in\\u2019. \\u2018Successive governments, irrespective of political hue, have, for decades, acted with irresponsible abandon when making provision for their own staff\\u2019s pensions. Pension promises have historically been worth roughly 35 per cent of salary, yet contributions have been only around 21 per cent: pure Madoff economics,\\u2019 he said, referring to the pyramid scheme which has been described as the biggest financial fraud of all time. Mr Johnson\\u2019s report highlighted the massive disparities in administration management costs: \\u00a313.70 in Nottinghamshire per member compared to \\u00a3119.40 in Durham. Fund management costs were even more varied with City of London council workers paying \\u00a3317.30 each compared to \\u00a37.60 in West Yorkshire. Mr Johnson called for some of the 101 pension schemes to be merged into several regional ones. The also queried why councils were paying so much to fund managers to actively invest their money when studies showed they provided little value when compared to \\u2018passive\\u2019 investments. The Mail understands that ministers and senior civil servants are closely scrutinising his recommendations. A spokesman for the Local Government Association said: \\u2018The problems identified in this report are already being addressed and many of the suggested reforms are underway and well advanced. \\u2018The LGPS is one of the lowest cost pension schemes in the country and we will continue to work very hard to improve performance and value for both taxpayers and pension fund members. The steps we are taking to make it possible to compare costs and performance between funds, and make merging easier for those funds that chose to do so, will secure the long-term viability of the scheme. \\u2018We are in the middle of a formal call for evidence on the future structure of the LGPS which is considering a number of issues including the size of funds, investment strategy, deficit management and cash-flow. That will result in a formal consultation early in the new year.\\u2019\",\n          \"By . Daily Mail Reporter . David Cameron has introduced new Asbo style orders to silence hate preachers . Government officials have identified 25 hate preachers who face being silenced with new 'Asbo' style anti-terror orders, it has today been revealed. Downing Street is to introduce the new civil . powers, based on a dramatically revised definition of extremism, to target preachers who radicalise others. The orders will bar people from preaching messages of terror and hate, associating with . named individuals thought vulnerable to radicalisation, and from . entering specific venues, such as mosques or community halls - in a similar manner to the orders used to ban yobs from certain areas. The measures are part of an anti-extremism task force set up by . David Cameron after the death of Drummer Lee Rigby in Woolwich. Muslim converts Michael Adebolajo, 29, and Michael Adebowale, 22,\\u00a0 have been convicted of the brutal murder of the young soldier. The pair were told they face life behind bars and will be sentenced in the new year. The Sunday Times reports that . Haitham al-Haddad, an Islamic scholar, is one preacher under scrutiny according to Whitehall officials. The Palestinian, who is now based in London, heaped praise on Al Qaeda leader Osama bin Laden, after his death. In May 2011, he wrote: 'He . died as a Muslim and it is an established part of our Islamic creed . that every Muslim, unlike the disbelievers, will eventually enter . paradise.' Whitehall officials told the paper they knew of 25 preachers that operate as 'an informal network' which collects and coordinates around study centres, institutions and universities. They added that Anjem Choudary, a notorious hate preacher, is not one of the 25. The 45-year-old former leader of Islam4UK, a banned Islamist group, refused to condemn the actions of Adebolajo and Adebowale following their conviction, instead blaming the barbaric murder on British foreign policy. Muslim converts Michael Adebowale, left and . Michael Adebolajo, right, have been convicted of the murder of soldier . Lee Rigby. It comes as Government officials have identified 25 hate . preachers who face being silenced with new 'Asbo' style anti-terror . orders . Whitehall officials say they know of 25 preachers that operate as 'an informal network' which collects and coordinates around study centres, institutions and universities. Anjem Choudary, a notorious hate preacher, is not one of the 25 under scrutiny . But the former solicitor, who provoked outrage with his comments on BBC's Radio 4 show following the trial of the two men, has always been careful not to break the law. As part of the new package of power to tackle extremism, the Government is also working with . internet firms to remove hate-filled websites including material that . would be illegal if published in the UK. Family-friendly filters . being made standard for web users to block porn will also be expanded to . block extremist material, allowing concerned families and institutions . to filter out such websites. Speaking as he unveiled the plans Mr Cameron said: \\u2018This summer we saw . events that shocked the nation with the horrific killing of Drummer Lee . Rigby in Woolwich and murder of Mohammed Saleem in Birmingham. \\u2018These . tragedies were a wake-up call for government and wider society to take . action to confront extremism in all its forms, whether in our . communities, schools, jails, Islamic centres or universities. 'I have been absolutely clear that this is not something we should be afraid to address for fear of cultural sensitivities. Fusilier Lee Rigby was 'mutilated, almost decapitated and murdered' by Adebowale and Adebolajo, who ambushed him outside his barracks in Woolwich, South East London on May 22 . 'We . have already put in place some of the toughest terrorism prevention . controls in the democratic world, but we must work harder to defeat the . radical views which lead some people to embrace violence. \\u2018The . task force I set up has proposed a broad range of measures to counter . the extremist narrative. When you look at this report, you can see a . very clear analysis, a very clear definition of the extremism we\\u2019re . talking about ... now everyone can see what it is that we need to . tackle.\\u2019 He added: \\u2018There are just too many people who have been . radicalised at Islamic centres, who have been in contact with extremist . preachers, who have come across material on the internet who haven\\u2019t . been sufficiently challenged.\\u2019 \\u2018Some institutions have wanted to get rid of radicalisers but haven\\u2019t had the means to do so,\\u2019 he added. The . task force includes Home Secretary Theresa May, Deputy Premier Nick . Clegg, Minister for Faith Baroness Warsi, and has taken advice from . police and intelligence chiefs. Other proposals include legally requiring intervention by local authorities in 30 areas identified as radicalism hotspots. The MailOnline has contacted Haitham al-Haddad for comment.\",\n          \"(CNN) -- Tour de France race director Christian Prudhomme has confirmed the 2013 race -- the centenary edition -- will start on the French island of Corsica. Corsica, which lies off the southern French coast, will host the first three stages of the race from Porto-Vecchio to Calvi, the first time the Tour has ever visited. Prudhomme told AFP: \\\"For the hundredth edition of the race, we wanted to go somewhere new, somewhere spectacular. \\\"In Corsica, we have all of that. We have everything in place for an enchanting start to the race,\\\" he added. The opening 201.5km stage from Porto-Vecchio to Bastia is likely to favor the sprinters, while the 153km second stage from Bastia to Ajaccio, is expected to see the climbers come to the fore. The third stage is relatively short, just 145km from Ajaccio to Calvi. Every French region has hosted a stage of the Tour but the race has never previously crossed over to Corsica, the birthplace of Napoleon Bonaparte, for logistical reasons. The 2012 Tour de France will begin in the Belgian city of Liege on June 30.\"\n        ],\n        \"semantic_type\": \"\",\n        \"description\": \"\"\n      }\n    },\n    {\n      \"column\": \"geo_mentions\",\n      \"properties\": {\n        \"dtype\": \"object\",\n        \"semantic_type\": \"\",\n        \"description\": \"\"\n      }\n    },\n    {\n      \"column\": \"geo_coordinates\",\n      \"properties\": {\n        \"dtype\": \"object\",\n        \"semantic_type\": \"\",\n        \"description\": \"\"\n      }\n    },\n    {\n      \"column\": \"primary_lat\",\n      \"properties\": {\n        \"dtype\": \"number\",\n        \"std\": 10.259643823595257,\n        \"min\": 25.7741728,\n        \"max\": 55.9533456,\n        \"num_unique_values\": 8,\n        \"samples\": [\n          51.4826696,\n          41.5911382,\n          38.8950368\n        ],\n        \"semantic_type\": \"\",\n        \"description\": \"\"\n      }\n    },\n    {\n      \"column\": \"primary_lon\",\n      \"properties\": {\n        \"dtype\": \"number\",\n        \"std\": 49.46429223861466,\n        \"min\": -118.329523,\n        \"max\": 9.2794469,\n        \"num_unique_values\": 8,\n        \"samples\": [\n          0.0623335,\n          9.2794469,\n          -77.0365427\n        ],\n        \"semantic_type\": \"\",\n        \"description\": \"\"\n      }\n    }\n  ]\n}"
            }
          },
          "metadata": {},
          "execution_count": 6
        }
      ]
    },
    {
      "cell_type": "code",
      "source": [
        "!pip install rouge-score bert-score"
      ],
      "metadata": {
        "id": "qAaakmaYzGOc"
      },
      "execution_count": null,
      "outputs": []
    },
    {
      "cell_type": "code",
      "source": [
        "import pandas as pd\n",
        "geo_df = pd.read_csv(\"/content/drive/MyDrive/final_output.csv\")\n",
        "summ_df = pd.read_csv(\"/content/drive/MyDrive/train_summarized_2000.csv\")\n",
        "geo_df = geo_df.head(1000)\n",
        "summ_df = summ_df.head(1000)\n",
        "merged_df = pd.merge(geo_df, summ_df, on=\"article\", how=\"inner\")\n",
        "print(merged_df.columns)\n",
        "print(merged_df.head(2))\n",
        "merged_df.to_csv(\"/content/drive/MyDrive/final_merged_1000.csv\", index=False)\n",
        "print(\"Merged CSV with first 1000 records saved!\")\n"
      ],
      "metadata": {
        "colab": {
          "base_uri": "https://localhost:8080/"
        },
        "id": "GXEr8lSP3nGd",
        "outputId": "42442171-0112-4ac7-807c-134151b3353d"
      },
      "execution_count": 24,
      "outputs": [
        {
          "output_type": "stream",
          "name": "stdout",
          "text": [
            "Index(['id_x', 'article', 'highlights_x', 'geo_mentions', 'geo_coordinates',\n",
            "       'primary_lat', 'primary_lon', 'id_y', 'highlights_y', 'auto_summary'],\n",
            "      dtype='object')\n",
            "                                       id_x  \\\n",
            "0  0001d1afc246a7964130f43ae940af6bc6c57f01   \n",
            "1  0002095e55fcbd3a2f366d9bf92a95433dc305ef   \n",
            "\n",
            "                                             article  \\\n",
            "0  By . Associated Press . PUBLISHED: . 14:11 EST...   \n",
            "1  (CNN) -- Ralph Mata was an internal affairs li...   \n",
            "\n",
            "                                        highlights_x  \\\n",
            "0  Bishop John Folda, of North Dakota, is taking ...   \n",
            "1  Criminal complaint: Cop used his role to help ...   \n",
            "\n",
            "                                        geo_mentions  \\\n",
            "0  ['North Dakota', 'Fargo', 'Grand Forks', 'Italy']   \n",
            "1  ['U.S.', 'New Jersey', 'Miami', 'the Dominican...   \n",
            "\n",
            "               geo_coordinates  primary_lat  primary_lon  \\\n",
            "0  [[47.6201461, -100.540737]]    47.620146  -100.540737   \n",
            "1  [[39.7837304, -100.445882]]    39.783730  -100.445882   \n",
            "\n",
            "                                       id_y  \\\n",
            "0  0001d1afc246a7964130f43ae940af6bc6c57f01   \n",
            "1  0002095e55fcbd3a2f366d9bf92a95433dc305ef   \n",
            "\n",
            "                                        highlights_y  \\\n",
            "0  Bishop John Folda, of North Dakota, is taking ...   \n",
            "1  Criminal complaint: Cop used his role to help ...   \n",
            "\n",
            "                                        auto_summary  \n",
            "0   Bishop John Folda of the Fargo Catholic Dioce...  \n",
            "1   Ralph Mata was an internal affairs lieutenant...  \n",
            "Merged CSV with first 1000 records saved!\n"
          ]
        }
      ]
    },
    {
      "cell_type": "code",
      "source": [
        "# Drop unnecessary columns\n",
        "merged_df = merged_df.drop(columns=[\"id_y\", \"highlights_y\"])\n",
        "merged_df = merged_df.rename(columns={\n",
        "    \"id_x\": \"id\",\n",
        "    \"highlights_x\": \"highlights\"\n",
        "})\n",
        "print(merged_df.columns)\n",
        "print(merged_df.head(2))\n",
        "\n",
        "merged_df.to_csv(\"/content/drive/MyDrive/Geo-Tagged_QA_Pipeline.csv\", index=False)\n",
        "print(\"CSV saved without id_y and highlights_y\")\n"
      ],
      "metadata": {
        "id": "xckjd0oN5DhT",
        "outputId": "bb2e274d-1723-4f83-8a89-7c72cb5a52e3",
        "colab": {
          "base_uri": "https://localhost:8080/"
        }
      },
      "execution_count": 27,
      "outputs": [
        {
          "output_type": "stream",
          "name": "stdout",
          "text": [
            "Index(['id', 'article', 'highlights', 'geo_mentions', 'geo_coordinates',\n",
            "       'primary_lat', 'primary_lon', 'auto_summary'],\n",
            "      dtype='object')\n",
            "                                         id  \\\n",
            "0  0001d1afc246a7964130f43ae940af6bc6c57f01   \n",
            "1  0002095e55fcbd3a2f366d9bf92a95433dc305ef   \n",
            "\n",
            "                                             article  \\\n",
            "0  By . Associated Press . PUBLISHED: . 14:11 EST...   \n",
            "1  (CNN) -- Ralph Mata was an internal affairs li...   \n",
            "\n",
            "                                          highlights  \\\n",
            "0  Bishop John Folda, of North Dakota, is taking ...   \n",
            "1  Criminal complaint: Cop used his role to help ...   \n",
            "\n",
            "                                        geo_mentions  \\\n",
            "0  ['North Dakota', 'Fargo', 'Grand Forks', 'Italy']   \n",
            "1  ['U.S.', 'New Jersey', 'Miami', 'the Dominican...   \n",
            "\n",
            "               geo_coordinates  primary_lat  primary_lon  \\\n",
            "0  [[47.6201461, -100.540737]]    47.620146  -100.540737   \n",
            "1  [[39.7837304, -100.445882]]    39.783730  -100.445882   \n",
            "\n",
            "                                        auto_summary  \n",
            "0   Bishop John Folda of the Fargo Catholic Dioce...  \n",
            "1   Ralph Mata was an internal affairs lieutenant...  \n",
            "CSV saved without id_y and highlights_y\n"
          ]
        }
      ]
    },
    {
      "cell_type": "code",
      "source": [
        "from rouge_score import rouge_scorer\n",
        "from bert_score import score\n",
        "from tqdm import tqdm\n",
        "\n",
        "# Columns\n",
        "reference_col = 'highlights'\n",
        "generated_col = 'auto_summary'\n",
        "\n",
        "scorer = rouge_scorer.RougeScorer(['rouge1', 'rouge2', 'rougeL'], use_stemmer=True)\n",
        "\n",
        "rouge1_list = []\n",
        "rouge2_list = []\n",
        "rougeL_list = []\n",
        "\n",
        "for ref, pred in tqdm(zip(merged_df[reference_col], merged_df[generated_col]), total=len(merged_df), desc=\"ROUGE Evaluation\"):\n",
        "    ref, pred = str(ref), str(pred)\n",
        "    scores = scorer.score(ref, pred)\n",
        "    rouge1_list.append(scores['rouge1'].fmeasure)\n",
        "    rouge2_list.append(scores['rouge2'].fmeasure)\n",
        "    rougeL_list.append(scores['rougeL'].fmeasure)\n",
        "\n",
        "# Add to DataFrame\n",
        "merged_df['rouge1'] = rouge1_list\n",
        "merged_df['rouge2'] = rouge2_list\n",
        "merged_df['rougeL'] = rougeL_list\n",
        "\n",
        "P, R, F1 = score(\n",
        "    cands=list(merged_df[generated_col]),\n",
        "    refs=list(merged_df[reference_col]),\n",
        "    lang='en',\n",
        "    model_type='distilbert-base-uncased',\n",
        "    batch_size=64\n",
        ")\n",
        "\n",
        "merged_df['bert_f1'] = F1.tolist()\n",
        "\n",
        "merged_df.to_csv(\"/content/drive/MyDrive/Output_With_metrics.csv\", index=False)\n",
        "print(\" CSV saved with ROUGE & BERTScore metrics\")\n"
      ],
      "metadata": {
        "colab": {
          "base_uri": "https://localhost:8080/"
        },
        "id": "QDQjBDkbz2HR",
        "outputId": "d3642651-8599-4565-ce6a-e6d99ca80aa5"
      },
      "execution_count": 29,
      "outputs": [
        {
          "output_type": "stream",
          "name": "stderr",
          "text": [
            "ROUGE Evaluation: 100%|██████████| 1000/1000 [00:07<00:00, 127.88it/s]\n"
          ]
        },
        {
          "output_type": "stream",
          "name": "stdout",
          "text": [
            " CSV saved with ROUGE & BERTScore metrics\n"
          ]
        }
      ]
    },
    {
      "cell_type": "code",
      "source": [
        "# Compute average scores\n",
        "avg_rouge1 = merged_df['rouge1'].mean()\n",
        "avg_rouge2 = merged_df['rouge2'].mean()\n",
        "avg_rougeL = merged_df['rougeL'].mean()\n",
        "avg_bert   = merged_df['bert_f1'].mean()\n",
        "\n",
        "# Print nicely\n",
        "print(\"Average Evaluation Scores (1000 samples)\")\n",
        "print(f\"ROUGE-1 : {avg_rouge1:.4f}\")\n",
        "print(f\"ROUGE-2 : {avg_rouge2:.4f}\")\n",
        "print(f\"ROUGE-L : {avg_rougeL:.4f}\")\n",
        "print(f\"BERTScore F1 : {avg_bert:.4f}\")\n"
      ],
      "metadata": {
        "id": "BBDnshp672dZ",
        "outputId": "a8b59ebe-e224-4a83-cc3e-39dfff27ad40",
        "colab": {
          "base_uri": "https://localhost:8080/"
        }
      },
      "execution_count": 30,
      "outputs": [
        {
          "output_type": "stream",
          "name": "stdout",
          "text": [
            "Average Evaluation Scores (1000 samples)\n",
            "ROUGE-1 : 0.4289\n",
            "ROUGE-2 : 0.2087\n",
            "ROUGE-L : 0.3015\n",
            "BERTScore F1 : 0.8247\n"
          ]
        }
      ]
    }
  ]
}